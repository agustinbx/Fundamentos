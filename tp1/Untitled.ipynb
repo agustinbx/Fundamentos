{
 "cells": [
  {
   "cell_type": "code",
   "execution_count": 4,
   "id": "8988065c-f4bd-431a-8664-edaabe98b00a",
   "metadata": {},
   "outputs": [
    {
     "name": "stdout",
     "output_type": "stream",
     "text": [
      "Hola Agustin!\n"
     ]
    }
   ],
   "source": [
    "def saludar(persona):\n",
    "    print(f\"Hola {persona}!\")\n",
    "\n",
    "saludar(\"Agustin\")"
   ]
  },
  {
   "cell_type": "code",
   "execution_count": null,
   "id": "e4f94851-9b3f-4b05-87b8-8c8f12fbb097",
   "metadata": {},
   "outputs": [],
   "source": []
  }
 ],
 "metadata": {
  "kernelspec": {
   "display_name": "Python 3 (ipykernel)",
   "language": "python",
   "name": "python3"
  },
  "language_info": {
   "codemirror_mode": {
    "name": "ipython",
    "version": 3
   },
   "file_extension": ".py",
   "mimetype": "text/x-python",
   "name": "python",
   "nbconvert_exporter": "python",
   "pygments_lexer": "ipython3",
   "version": "3.12.5"
  }
 },
 "nbformat": 4,
 "nbformat_minor": 5
}
