{
 "cells": [
  {
   "cell_type": "code",
   "execution_count": 2,
   "id": "8988065c-f4bd-431a-8664-edaabe98b00a",
   "metadata": {},
   "outputs": [
    {
     "name": "stdout",
     "output_type": "stream",
     "text": [
      "Hola Agustin!\n"
     ]
    }
   ],
   "source": [
    "def saludar(persona):\n",
    "    print(f\"Hola {persona}!\")\n",
    "invocamos la funcion anterior con un nombre\n",
    "saludar(\"Agustin\")"
   ]
  },
  {
   "cell_type": "code",
   "execution_count": null,
   "id": "1348e8f4-6020-493f-8129-c20d39809060",
   "metadata": {},
   "outputs": [],
   "source": []
  }
 ],
 "metadata": {
  "kernelspec": {
   "display_name": "Python 3 (ipykernel)",
   "language": "python",
   "name": "python3"
  },
  "language_info": {
   "codemirror_mode": {
    "name": "ipython",
    "version": 3
   },
   "file_extension": ".py",
   "mimetype": "text/x-python",
   "name": "python",
   "nbconvert_exporter": "python",
   "pygments_lexer": "ipython3",
   "version": "3.12.5"
  }
 },
 "nbformat": 4,
 "nbformat_minor": 5
}
