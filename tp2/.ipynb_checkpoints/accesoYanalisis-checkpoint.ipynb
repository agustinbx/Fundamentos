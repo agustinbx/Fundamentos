{
 "cells": [
  {
   "cell_type": "code",
   "execution_count": 1,
   "id": "78a6d51c-3b06-4f10-809e-9ad9b23fc6b8",
   "metadata": {},
   "outputs": [
    {
     "ename": "ModuleNotFoundError",
     "evalue": "No module named 'wget'",
     "output_type": "error",
     "traceback": [
      "\u001b[1;31m---------------------------------------------------------------------------\u001b[0m",
      "\u001b[1;31mModuleNotFoundError\u001b[0m                       Traceback (most recent call last)",
      "Cell \u001b[1;32mIn[1], line 1\u001b[0m\n\u001b[1;32m----> 1\u001b[0m \u001b[38;5;28;01mfrom\u001b[39;00m \u001b[38;5;21;01mwget\u001b[39;00m \u001b[38;5;28;01mimport\u001b[39;00m download\n\u001b[0;32m      2\u001b[0m \u001b[38;5;28;01mfrom\u001b[39;00m \u001b[38;5;21;01mos\u001b[39;00m \u001b[38;5;28;01mimport\u001b[39;00m path, listdir\n\u001b[0;32m      4\u001b[0m \u001b[38;5;66;03m# descargamos una base de datos en txt\u001b[39;00m\n",
      "\u001b[1;31mModuleNotFoundError\u001b[0m: No module named 'wget'"
     ]
    }
   ],
   "source": [
    "from wget import download\n",
    "from os import path, listdir\n",
    "\n",
    "# descargamos una base de datos en txt\n",
    "if not path.exists(\"ObesityDataSet_raw_and_data_sinthetic.txt\"):\n",
    "  download(\"https://ignaciorlando.github.io/datasets/data-science/ObesityDataSet_raw_and_data_sinthetic.txt\")\n",
    "else:\n",
    "  print(\"No vamos a bajar el archivo de itunes porque ya existe!\")\n",
    "\n",
    "\n",
    "# y una en CSV\n",
    "if not path.exists(\"ObesityDataSet_raw_and_data_sinthetic.csv\"):\n",
    "  download(\"https://ignaciorlando.github.io/datasets/data-science/ObesityDataSet_raw_and_data_sinthetic.csv\")\n",
    "else:\n",
    "  print(\"No vamos a bajar el archivo de casas porque ya existe!\")\n",
    "\n",
    "\n",
    "# chequeamos si los archivos están en el directorio donde estamos parados\n",
    "lista_archivos = listdir(\"./\")\n",
    "print(f\"El contenido de la carpeta es: {lista_archivos}\")"
   ]
  },
  {
   "cell_type": "code",
   "execution_count": null,
   "id": "54f4af8d-91e4-4eda-8da3-b5df735d5475",
   "metadata": {},
   "outputs": [],
   "source": []
  },
  {
   "cell_type": "code",
   "execution_count": null,
   "id": "8ccc0db9-de83-4f93-81f5-0ab6ec2080a5",
   "metadata": {},
   "outputs": [],
   "source": []
  }
 ],
 "metadata": {
  "kernelspec": {
   "display_name": "Python 3 (ipykernel)",
   "language": "python",
   "name": "python3"
  },
  "language_info": {
   "codemirror_mode": {
    "name": "ipython",
    "version": 3
   },
   "file_extension": ".py",
   "mimetype": "text/x-python",
   "name": "python",
   "nbconvert_exporter": "python",
   "pygments_lexer": "ipython3",
   "version": "3.12.5"
  }
 },
 "nbformat": 4,
 "nbformat_minor": 5
}
